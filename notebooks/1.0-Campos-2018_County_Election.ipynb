{
 "cells": [
  {
   "cell_type": "code",
   "execution_count": 11,
   "metadata": {},
   "outputs": [
    {
     "ename": "ModuleNotFoundError",
     "evalue": "No module named 'seaborn'",
     "output_type": "error",
     "traceback": [
      "\u001b[1;31m---------------------------------------------------------------------------\u001b[0m",
      "\u001b[1;31mModuleNotFoundError\u001b[0m                       Traceback (most recent call last)",
      "Cell \u001b[1;32mIn[11], line 5\u001b[0m\n\u001b[0;32m      2\u001b[0m \u001b[39mimport\u001b[39;00m \u001b[39mnumpy\u001b[39;00m \u001b[39mas\u001b[39;00m \u001b[39mnp\u001b[39;00m\n\u001b[0;32m      3\u001b[0m \u001b[39mimport\u001b[39;00m \u001b[39mmatplotlib\u001b[39;00m\u001b[39m.\u001b[39;00m\u001b[39mpyplot\u001b[39;00m \u001b[39mas\u001b[39;00m \u001b[39mplt\u001b[39;00m\n\u001b[1;32m----> 5\u001b[0m \u001b[39mimport\u001b[39;00m \u001b[39mseaborn\u001b[39;00m \u001b[39mas\u001b[39;00m \u001b[39msns\u001b[39;00m\n",
      "\u001b[1;31mModuleNotFoundError\u001b[0m: No module named 'seaborn'"
     ]
    }
   ],
   "source": [
    "import pandas as pd\n",
    "import numpy as np\n",
    "import matplotlib.pyplot as plt"
   ]
  },
  {
   "cell_type": "code",
   "execution_count": 5,
   "metadata": {},
   "outputs": [],
   "source": [
    "df = pd.read_csv('../data/raw/2018CountyElection/state-files/state-files/NC.csv')"
   ]
  },
  {
   "cell_type": "code",
   "execution_count": 6,
   "metadata": {},
   "outputs": [
    {
     "data": {
      "text/html": [
       "<div>\n",
       "<style scoped>\n",
       "    .dataframe tbody tr th:only-of-type {\n",
       "        vertical-align: middle;\n",
       "    }\n",
       "\n",
       "    .dataframe tbody tr th {\n",
       "        vertical-align: top;\n",
       "    }\n",
       "\n",
       "    .dataframe thead th {\n",
       "        text-align: right;\n",
       "    }\n",
       "</style>\n",
       "<table border=\"1\" class=\"dataframe\">\n",
       "  <thead>\n",
       "    <tr style=\"text-align: right;\">\n",
       "      <th></th>\n",
       "      <th>state</th>\n",
       "      <th>county</th>\n",
       "      <th>fipscode</th>\n",
       "      <th>fipscode2</th>\n",
       "      <th>office</th>\n",
       "      <th>district</th>\n",
       "      <th>total.votes</th>\n",
       "      <th>party</th>\n",
       "      <th>candidate</th>\n",
       "      <th>votes</th>\n",
       "    </tr>\n",
       "  </thead>\n",
       "  <tbody>\n",
       "    <tr>\n",
       "      <th>0</th>\n",
       "      <td>NC</td>\n",
       "      <td>Alamance</td>\n",
       "      <td>37001</td>\n",
       "      <td>3700100000</td>\n",
       "      <td>ALAMANCE-BURLINGTON BOARD OF EDUCATION (vote f...</td>\n",
       "      <td>NaN</td>\n",
       "      <td>131735</td>\n",
       "      <td>NaN</td>\n",
       "      <td>Allison Gant</td>\n",
       "      <td>26365</td>\n",
       "    </tr>\n",
       "    <tr>\n",
       "      <th>1</th>\n",
       "      <td>NC</td>\n",
       "      <td>Alamance</td>\n",
       "      <td>37001</td>\n",
       "      <td>3700100000</td>\n",
       "      <td>ALAMANCE-BURLINGTON BOARD OF EDUCATION (vote f...</td>\n",
       "      <td>NaN</td>\n",
       "      <td>131735</td>\n",
       "      <td>NaN</td>\n",
       "      <td>Bridgette M. Yaeger</td>\n",
       "      <td>15139</td>\n",
       "    </tr>\n",
       "    <tr>\n",
       "      <th>2</th>\n",
       "      <td>NC</td>\n",
       "      <td>Alamance</td>\n",
       "      <td>37001</td>\n",
       "      <td>3700100000</td>\n",
       "      <td>ALAMANCE-BURLINGTON BOARD OF EDUCATION (vote f...</td>\n",
       "      <td>NaN</td>\n",
       "      <td>131735</td>\n",
       "      <td>NaN</td>\n",
       "      <td>Linda Kinney</td>\n",
       "      <td>20175</td>\n",
       "    </tr>\n",
       "    <tr>\n",
       "      <th>3</th>\n",
       "      <td>NC</td>\n",
       "      <td>Alamance</td>\n",
       "      <td>37001</td>\n",
       "      <td>3700100000</td>\n",
       "      <td>ALAMANCE-BURLINGTON BOARD OF EDUCATION (vote f...</td>\n",
       "      <td>NaN</td>\n",
       "      <td>131735</td>\n",
       "      <td>NaN</td>\n",
       "      <td>Ryan Bowden</td>\n",
       "      <td>16820</td>\n",
       "    </tr>\n",
       "    <tr>\n",
       "      <th>4</th>\n",
       "      <td>NC</td>\n",
       "      <td>Alamance</td>\n",
       "      <td>37001</td>\n",
       "      <td>3700100000</td>\n",
       "      <td>ALAMANCE-BURLINGTON BOARD OF EDUCATION (vote f...</td>\n",
       "      <td>NaN</td>\n",
       "      <td>131735</td>\n",
       "      <td>NaN</td>\n",
       "      <td>Tony Rose</td>\n",
       "      <td>23205</td>\n",
       "    </tr>\n",
       "  </tbody>\n",
       "</table>\n",
       "</div>"
      ],
      "text/plain": [
       "  state    county  fipscode   fipscode2  \\\n",
       "0    NC  Alamance     37001  3700100000   \n",
       "1    NC  Alamance     37001  3700100000   \n",
       "2    NC  Alamance     37001  3700100000   \n",
       "3    NC  Alamance     37001  3700100000   \n",
       "4    NC  Alamance     37001  3700100000   \n",
       "\n",
       "                                              office district  total.votes  \\\n",
       "0  ALAMANCE-BURLINGTON BOARD OF EDUCATION (vote f...      NaN       131735   \n",
       "1  ALAMANCE-BURLINGTON BOARD OF EDUCATION (vote f...      NaN       131735   \n",
       "2  ALAMANCE-BURLINGTON BOARD OF EDUCATION (vote f...      NaN       131735   \n",
       "3  ALAMANCE-BURLINGTON BOARD OF EDUCATION (vote f...      NaN       131735   \n",
       "4  ALAMANCE-BURLINGTON BOARD OF EDUCATION (vote f...      NaN       131735   \n",
       "\n",
       "  party            candidate  votes  \n",
       "0   NaN         Allison Gant  26365  \n",
       "1   NaN  Bridgette M. Yaeger  15139  \n",
       "2   NaN         Linda Kinney  20175  \n",
       "3   NaN          Ryan Bowden  16820  \n",
       "4   NaN            Tony Rose  23205  "
      ]
     },
     "execution_count": 6,
     "metadata": {},
     "output_type": "execute_result"
    }
   ],
   "source": [
    "df.head()"
   ]
  },
  {
   "cell_type": "code",
   "execution_count": 7,
   "metadata": {},
   "outputs": [
    {
     "data": {
      "text/plain": [
       "array(['Alamance', 'Alexander', 'Alleghany', 'Anson', 'Ashe', 'Avery',\n",
       "       'Beaufort', 'Bertie', 'Bladen', 'Brunswick', 'Buncombe', 'Burke',\n",
       "       'Cabarrus', 'Caldwell', 'Camden', 'Carteret', 'Caswell', 'Catawba',\n",
       "       'Chatham', 'Cherokee', 'Chowan', 'Clay', 'Cleveland', 'Columbus',\n",
       "       'Craven', 'Cumberland', 'Currituck', 'Dare', 'Davidson', 'Davie',\n",
       "       'Duplin', 'Durham', 'Edgecombe', 'Forsyth', 'Franklin', 'Gaston',\n",
       "       'Gates', 'Graham', 'Granville', 'Greene', 'Guilford', 'Halifax',\n",
       "       'Harnett', 'Haywood', 'Henderson', 'Hertford', 'Hoke', 'Hyde',\n",
       "       'Iredell', 'Jackson', 'Johnston', 'Jones', 'Lee', 'Lenoir',\n",
       "       'Lincoln', 'Macon', 'Madison', 'Martin', 'McDowell', 'Mecklenburg',\n",
       "       'Mitchell', 'Montgomery', 'Moore', 'Nash', 'New Hanover',\n",
       "       'Northampton', 'Onslow', 'Orange', 'Pamlico', 'Pasquotank',\n",
       "       'Pender', 'Perquimans', 'Person', 'Pitt', 'Polk', 'Randolph',\n",
       "       'Richmond', 'Robeson', 'Rockingham', 'Rowan', 'Rutherford',\n",
       "       'Sampson', 'Scotland', 'Stanly', 'Stokes', 'Surry', 'Swain',\n",
       "       'Transylvania', 'Tyrrell', 'Union', 'Vance', 'Wake', 'Warren',\n",
       "       'Washington', 'Watauga', 'Wayne', 'Wilkes', 'Wilson', 'Yadkin',\n",
       "       'Yancey'], dtype=object)"
      ]
     },
     "execution_count": 7,
     "metadata": {},
     "output_type": "execute_result"
    }
   ],
   "source": [
    "df.county.unique()"
   ]
  },
  {
   "cell_type": "code",
   "execution_count": 9,
   "metadata": {},
   "outputs": [
    {
     "data": {
      "text/plain": [
       "state          object\n",
       "county         object\n",
       "fipscode        int64\n",
       "fipscode2       int64\n",
       "office         object\n",
       "district       object\n",
       "total.votes     int64\n",
       "party          object\n",
       "candidate      object\n",
       "votes           int64\n",
       "dtype: object"
      ]
     },
     "execution_count": 9,
     "metadata": {},
     "output_type": "execute_result"
    }
   ],
   "source": [
    "df.dtypes"
   ]
  },
  {
   "cell_type": "code",
   "execution_count": null,
   "metadata": {},
   "outputs": [],
   "source": []
  }
 ],
 "metadata": {
  "kernelspec": {
   "display_name": "PADataProd",
   "language": "python",
   "name": "python3"
  },
  "language_info": {
   "codemirror_mode": {
    "name": "ipython",
    "version": 3
   },
   "file_extension": ".py",
   "mimetype": "text/x-python",
   "name": "python",
   "nbconvert_exporter": "python",
   "pygments_lexer": "ipython3",
   "version": "3.11.4"
  },
  "orig_nbformat": 4
 },
 "nbformat": 4,
 "nbformat_minor": 2
}
